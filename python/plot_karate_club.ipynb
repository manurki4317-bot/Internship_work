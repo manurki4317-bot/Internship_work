{
  "cells": [
    {
      "cell_type": "markdown",
      "metadata": {},
      "source": [
        "\n",
        "# Karate Club\n",
        "\n",
        "Zachary's Karate Club graph\n",
        "\n",
        "Data file from:\n",
        "http://vlado.fmf.uni-lj.si/pub/networks/data/Ucinet/UciData.htm\n",
        "\n",
        "Zachary W. (1977).\n",
        "An information flow model for conflict and fission in small groups.\n",
        "Journal of Anthropological Research, 33, 452-473.\n"
      ]
    },
    {
      "cell_type": "code",
      "execution_count": null,
      "metadata": {
        "collapsed": false
      },
      "outputs": [],
      "source": [
        "import matplotlib.pyplot as plt\n",
        "import networkx as nx\n",
        "\n",
        "G = nx.karate_club_graph()\n",
        "print(\"Node Degree\")\n",
        "for v in G:\n",
        "    print(f\"{v:4} {G.degree(v):6}\")\n",
        "\n",
        "nx.draw_circular(G, with_labels=True)\n",
        "plt.show()"
      ]
    }
  ],
  "metadata": {
    "kernelspec": {
      "display_name": "Python 3",
      "language": "python",
      "name": "python3"
    },
    "language_info": {
      "codemirror_mode": {
        "name": "ipython",
        "version": 3
      },
      "file_extension": ".py",
      "mimetype": "text/x-python",
      "name": "python",
      "nbconvert_exporter": "python",
      "pygments_lexer": "ipython3",
      "version": "3.13.5"
    }
  },
  "nbformat": 4,
  "nbformat_minor": 0
}
