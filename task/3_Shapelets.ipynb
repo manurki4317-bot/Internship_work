{
 "nbformat": 5,
 "nbformat_minor": 10,
 "metadata": {
  "kernelspec": {
   "name": "python3",
   "display_name": "Python 3"
  },
  "language_info": {
   "name": "python",
   "version": "3.11"
  }
 },
 "cells": [
  {
   "cell_type": "markdown",
   "metadata": {},
   "source": [
    "# Spike and Burst Detection with Shapelet Learning\n",
    "Minimal functional notebook compatible with nbformat 5.10.4."
   ]
  },
  {
   "cell_type": "code",
   "metadata": {},
   "execution_count": null,
   "source": [
    "import pyabf\n",
    "import numpy as np\n",
    "import matplotlib.pyplot as plt\n",
    "from scipy.signal import find_peaks\n",
    "from scipy.interpolate import interp1d"
   ],
   "outputs": []
  },
  {
   "cell_type": "code",
   "metadata": {},
   "execution_count": null,
   "source": [
    "# Load ABF file\n",
    "file_path = 'bursting/cell89basal.abf'\n",
    "abf = pyabf.ABF(file_path)\n",
    "signal = np.concatenate([abf.setSweep(i) or abf.sweepY for i in range(abf.sweepCount)])\n",
    "dt = 1.0 / abf.dataRate\n",
    "time = np.arange(len(signal)) * dt\n",
    "print(f'Loaded {file_path}, duration: {time[-1]:.2f}s')"
   ],
   "outputs": []
  },
  {
   "cell_type": "code",
   "metadata": {},
   "execution_count": null,
   "source": [
    "# Spike detection\n",
    "threshold = -35\n",
    "spike_indices, _ = find_peaks(signal, height=threshold)\n",
    "spike_times = time[spike_indices]"
   ],
   "outputs": []
  },
  {
   "cell_type": "code",
   "metadata": {},
   "execution_count": null,
   "source": [
    "# Burst detection\n",
    "burst_threshold = 0.3\n",
    "isi = np.diff(spike_times)\n",
    "bursts = []\n",
    "current_burst = [spike_times[0]]\n",
    "for i in range(1, len(isi)):\n",
    "    if isi[i-1] < burst_threshold:\n",
    "        current_burst.append(spike_times[i])\n",
    "    else:\n",
    "        if len(current_burst) > 1:\n",
    "            bursts.append((current_burst[0], current_burst[-1]))\n",
    "        current_burst = [spike_times[i]]\n",
    "if len(current_burst) > 1:\n",
    "    bursts.append((current_burst[0], current_burst[-1]))\n",
    "print(f'Total bursts detected: {len(bursts)}')"
   ],
   "outputs": []
  },
  {
   "cell_type": "code",
   "metadata": {},
   "execution_count": null,
   "source": [
    "# Burst normalization functions\n",
    "def normalize_y(segment):\n",
    "    return (segment - np.mean(segment)) / np.std(segment)\n",
    "\n",
    "def rescale_x(t_segment, segment, n_points=100):\n",
    "    f = interp1d(np.linspace(0,1,len(segment)), segment)\n",
    "    return f(np.linspace(0,1,n_points))"
   ],
   "outputs": []
  },
  {
   "cell_type": "code",
   "metadata": {},
   "execution_count": null,
   "source": [
    "# Extract normalized bursts\n",
    "def extract_normalized_bursts(burst_list, signal, time, n_points=100):\n",
    "    normalized_bursts = []\n",
    "    for start, end in burst_list:\n",
    "        mask = (time >= start) & (time <= end)\n",
    "        segment = signal[mask]\n",
    "        segment_rescaled = rescale_x(time[mask], segment, n_points)\n",
    "        segment_normalized = normalize_y(segment_rescaled)\n",
    "        normalized_bursts.append(segment_normalized)\n",
    "    return normalized_bursts\n",
    "\n",
    "square_bursts_norm = extract_normalized_bursts(bursts, signal, time)\n",
    "print(f'Example normalized burst shape: {square_bursts_norm[0].shape}')"
   ],
   "outputs": []
  }
 ]
}
