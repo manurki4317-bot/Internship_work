{
 "cells": [
  {
   "cell_type": "markdown",
   "id": "intro-cell",
   "metadata": {},
   "source": [
    "# Spike and Burst Analysis with ABF Files\n",
    "\n",
    "*This repository aims to document, summarize, and explain the work carried out in the practice sessions of electrophysiological signal analysis from files in **ABF (Axon Binary File)** format. The focus is on the detection of *spikes* and *bursts*, the extraction of quantitative metrics, and the representation of the data in low-dimensional spaces using machine learning techniques such as **UMAP**.*\n",
    "\n",
    "**ABF** files are a widely used format in experimental neuroscience to store recordings of electrical potentials obtained through **patch-clamp** techniques or other intracellular and extracellular electrophysiology protocols.\n",
    "\n",
    "The analysis of this type of data allows:\n",
    "- Identifying action potentials (*spikes*).\n",
    "- Detecting burst discharge patterns (*bursts*).\n",
    "- Calculating statistical and dynamic metrics (mean, deviation, ISI, area under the curve, etc.).\n",
    "- Classifying segments based on their morphology and dynamics.\n",
    "- Representing neuronal behavior in reduced spaces to explore similarities and differences between conditions.\n",
    "\n",
    "## Context\n",
    "\n",
    "In neuroscience, we distinguish between two major categories of electrophysiological data:\n",
    "\n",
    "- **M/EEG (extracranial)**: non-invasive recordings of neuronal populations, affected by noise and skull attenuation.\n",
    "- **Intracranial data (spike, LFP, ECoG, MEA)**: more local, higher-resolution recordings obtained directly in contact with neurons.\n",
    "\n",
    "It is this second category that interests us in this project. Thanks to the proximity of the electrodes, we can identify individual action potentials and analyze their temporal organization into bursts.\n",
    "\n",
    "## Technologies used\n",
    "\n",
    "This repository makes use of several **Python** libraries to process, analyze, and visualize the data:\n",
    "\n",
    "- `pyabf` for reading `.abf` files.\n",
    "- `numpy`, `pandas`, `scipy` for numerical and statistical computations.\n",
    "- `matplotlib`, `seaborn`, `plotly` for static and interactive visualization.\n",
    "- `umap-learn`, `scikit-learn` for dimensionality reduction and exploratory analysis.\n",
    "\n",
    "```{important}\n",
    "It is recommended to work in a **virtual environment (conda or venv)** to ensure the reproducibility of the analysis and to avoid dependency conflicts.\n",
    "```\n",
    "\n",
    "## Repository objective\n",
    "\n",
    "This repository aims to:\n",
    "1. Provide a reproducible pipeline for the analysis of ABF recordings.\n",
    "2. Document the workflow followed in the practice sessions.\n",
    "3. Serve as a basis for future extensions in neurophysiological data analysis.\n",
    "\n",
    "---\n",
    "\n",
    "✍️ Work carried out as part of the **electrophysiological data analysis practice sessions**.\n",
    "\n",
    "📂 Inspired by the project [Data Science and Spikes](https://fabien-campillo.github.io/data-science-spikes/).\n",
    "\n",
    "📜 License: CC BY-NC-SA 4.0.\n"
   ]
  }
 ],
 "metadata": {
  "kernelspec": {
   "display_name": "Python 3",
   "language": "python",
   "name": "python3"
  },
  "language_info": {
   "name": "python",
   "version": "3.11"
  }
 },
 "nbformat": 4,
 "nbformat_minor": 5
}
