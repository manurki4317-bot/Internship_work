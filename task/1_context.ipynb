# Spike and Burst Analysis with ABF Files

*Este repositorio tiene como objetivo documentar, resumir y explicar el trabajo realizado en las prácticas de análisis de señales electrofisiológicas a partir de archivos en formato **ABF (Axon Binary File)**. El enfoque está en la detección de *spikes* y *bursts*, la extracción de métricas cuantitativas y la representación de los datos en espacios de baja dimensión utilizando técnicas de aprendizaje automático como **UMAP**.*

<br>

Los archivos **ABF** son un formato ampliamente utilizado en neurociencia experimental para almacenar registros de potenciales eléctricos obtenidos mediante técnicas de **patch-clamp** u otros protocolos de electrophysiología intracelular y extracelular. Estos archivos contienen información detallada de las trazas de voltaje a lo largo del tiempo, organizada en “sweeps” o barridos de medición.  

El análisis de este tipo de datos permite:
- Identificar potenciales de acción (*spikes*).
- Detectar patrones de descarga en ráfaga (*bursts*).
- Calcular métricas estadísticas y dinámicas (media, desviación, ISI, área bajo la curva, etc.).
- Clasificar segmentos en función de su morfología y dinámica.
- Representar el comportamiento neuronal en espacios reducidos para explorar similitudes y diferencias entre condiciones.

<br>

## Contexto

En neurociencia, distinguimos entre dos grandes categorías de datos electrofisiológicos:

- **M/EEG (extracraneales)**: registros no invasivos de poblaciones neuronales, afectados por ruido y atenuación del cráneo.  
- **Datos intracraneales (espiga, LFP, ECoG, MEA)**: registros más locales y de mejor resolución, obtenidos directamente en contacto con las neuronas.  

Es esta segunda categoría la que nos interesa en este proyecto. Gracias a la cercanía de los electrodos, podemos identificar potenciales de acción individuales y analizar su organización temporal en ráfagas.  

<br>

## Tecnologías utilizadas

El repositorio hace uso de varias librerías de **Python** para procesar, analizar y visualizar los datos:

- [`pyabf`](https://pypi.org/project/pyabf/) para la lectura de archivos `.abf`.  
- `numpy`, `pandas`, `scipy` para cálculos numéricos y estadísticos.  
- `matplotlib`, `seaborn`, `plotly` para visualización estática e interactiva.  
- `umap-learn`, `scikit-learn` para reducción de dimensionalidad y análisis exploratorio.  

```{important}
Se recomienda trabajar en un **entorno virtual (conda o venv)** para garantizar la reproducibilidad del análisis y evitar conflictos entre dependencias.
