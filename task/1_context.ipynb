{
 "cells": [
  {
   "cell_type": "markdown",
   "id": "intro-cell",
   "metadata": {},
   "source": [
    "# Spike and Burst Analysis with ABF Files\n",
    "\n",
    "*Este repositorio tiene como objetivo documentar, resumir y explicar el trabajo realizado en las prácticas de análisis de señales electrofisiológicas a partir de archivos en formato **ABF (Axon Binary File)**. El enfoque está en la detección de *spikes* y *bursts*, la extracción de métricas cuantitativas y la representación de los datos en espacios de baja dimensión utilizando técnicas de aprendizaje automático como **UMAP**.*\n",
    "\n",
    "Los archivos **ABF** son un formato ampliamente utilizado en neurociencia experimental para almacenar registros de potenciales eléctricos obtenidos mediante técnicas de **patch-clamp** u otros protocolos de electrophysiología intracelular y extracelular.\n",
    "\n",
    "El análisis de este tipo de datos permite:\n",
    "- Identificar potenciales de acción (*spikes*).\n",
    "- Detectar patrones de descarga en ráfaga (*bursts*).\n",
    "- Calcular métricas estadísticas y dinámicas (media, desviación, ISI, área bajo la curva, etc.).\n",
    "- Clasificar segmentos en función de su morfología y dinámica.\n",
    "- Representar el comportamiento neuronal en espacios reducidos para explorar similitudes y diferencias entre condiciones.\n",
    "\n",
    "## Contexto\n",
    "\n",
    "En neurociencia, distinguimos entre dos grandes categorías de datos electrofisiológicos:\n",
    "\n",
    "- **M/EEG (extracraneales)**: registros no invasivos de poblaciones neuronales, afectados por ruido y atenuación del cráneo.\n",
    "- **Datos intracraneales (espiga, LFP, ECoG, MEA)**: registros más locales y de mejor resolución, obtenidos directamente en contacto con las neuronas.\n",
    "\n",
    "Es esta segunda categoría la que nos interesa en este proyecto. Gracias a la cercanía de los electrodos, podemos identificar potenciales de acción individuales y analizar su organización temporal en ráfagas.\n",
    "\n",
    "## Tecnologías utilizadas\n",
    "\n",
    "Este repositorio hace uso de varias librerías de **Python** para procesar, analizar y visualizar los datos:\n",
    "\n",
    "- `pyabf` para la lectura de archivos `.abf`.\n",
    "- `numpy`, `pandas`, `scipy` para cálculos numéricos y estadísticos.\n",
    "- `matplotlib`, `seaborn`, `plotly` para visualización estática e interactiva.\n",
    "- `umap-learn`, `scikit-learn` para reducción de dimensionalidad y análisis exploratorio.\n",
    "\n",
    "```{important}\n",
    "Se recomienda trabajar en un **entorno virtual (conda o venv)** para garantizar la reproducibilidad del análisis y evitar conflictos entre dependencias.\n",
    "```\n",
    "\n",
    "## Objetivo del repositorio\n",
    "\n",
    "Este repositorio busca:\n",
    "1. Proporcionar un pipeline reproducible para el análisis de registros ABF.\n",
    "2. Documentar el flujo de trabajo seguido en las prácticas.\n",
    "3. Servir como base para futuras extensiones en análisis de datos neurofisiológicos.\n",
    "\n",
    "---\n",
    "\n",
    "✍️ Trabajo realizado como parte de las **prácticas de análisis de datos electrofisiológicos**.\n",
    "\n",
    "📂 Inspirado en el proyecto [Data Science and Spikes](https://fabien-campillo.github.io/data-science-spikes/).\n",
    "\n",
    "📜 Licencia: CC BY-NC-SA 4.0.\n"
   ]
  }
 ],
 "metadata": {
  "kernelspec": {
   "display_name": "Python 3",
   "language": "python",
   "name": "python3"
  },
  "language_info": {
   "name": "python",
   "version": "3.11"
  }
 },
 "nbformat": 4,
 "nbformat_minor": 5
}
