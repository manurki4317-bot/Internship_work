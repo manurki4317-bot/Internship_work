{
 "cells": [
  {
   "cell_type": "markdown",
   "metadata": {},
   "source": [
    "# Spike and Burst Analysis with Visibility Graphs\n",
    "\n",
    "This notebook demonstrates detection of spikes and bursts in an ABF file, classifies bursts, and constructs visibility graphs with 2D and 3D embeddings for bursts."
   ]
  },
  {
   "cell_type": "code",
   "execution_count": null,
   "metadata": {},
   "outputs": [],
   "source": [
    "# Load libraries\n",
    "import pyabf\n",
    "import numpy as np\n",
    "import pandas as pd\n",
    "import matplotlib.pyplot as plt\n",
    "from scipy.signal import find_peaks\n",
    "%matplotlib widget"
   ]
  },
  {
   "cell_type": "markdown",
   "metadata": {},
   "source": [
    "## Load ABF file and concatenate sweeps\n",
    "We combine all sweeps from the ABF into a single continuous voltage signal."
   ]
  },
  {
   "cell_type": "code",
   "execution_count": null,
   "metadata": {},
   "outputs": [],
   "source": [
    "file_path = \"bursting/cell89basal.abf\"\n",
    "abf = pyabf.ABF(file_path)\n",
    "\n",
    "signal = np.concatenate([abf.setSweep(i) or abf.sweepY for i in range(abf.sweepCount)])\n",
    "dt = 1.0 / abf.dataRate\n",
    "time = np.arange(len(signal)) * dt\n",
    "\n",
    "print(f\"File: {file_path} | sweeps: {abf.sweepCount} | total length: {time[-1]:.2f} s\")"
   ]
  },
  {
   "cell_type": "markdown",
   "metadata": {},
   "source": [
    "## Spike detection\n",
    "Detect spikes using a voltage threshold."
   ]
  },
  {
   "cell_type": "code",
   "execution_count": null,
   "metadata": {},
   "outputs": [],
   "source": [
    "threshold = -35  # mV\n",
    "spike_indices, _ = find_peaks(signal, height=threshold)\n",
    "spike_times = time[spike_indices]"
   ]
  },
  {
   "cell_type": "markdown",
   "metadata": {},
   "source": [
    "## Burst detection\n",
    "Define bursts as sequences of spikes with interspike interval (ISI) below `burst_threshold`."
   ]
  },
  {
   "cell_type": "code",
   "execution_count": null,
   "metadata": {},
   "outputs": [],
   "source": [
    "isi = np.diff(spike_times)\n",
    "burst_threshold = 0.3  # seconds\n",
    "\n",
    "bursts = []\n",
    "current_burst = [spike_times[0]]\n",
    "for i in range(1, len(isi)):\n",
    "    if isi[i-1] < burst_threshold:\n",
    "        current_burst.append(spike_times[i])\n",
    "    else:\n",
    "        if len(current_burst) > 1:\n",
    "            bursts.append((current_burst[0], current_burst[-1]))\n",
    "        current_burst = [spike_times[i]]\n",
    "if len(current_burst) > 1:\n",
    "    bursts.append((current_burst[0], current_burst[-1]))"
   ]
  },
  {
   "cell_type": "markdown",
   "metadata": {},
   "source": [
    "## Burst classification\n",
    "Classify bursts as 'Square Wave', 'Parabolic', or 'Other' by comparing the minimum voltage of the burst with surrounding baseline."
   ]
  },
  {
   "cell_type": "code",
   "execution_count": null,
   "metadata": {},
   "outputs": [],
   "source": [
    "square_wave_bursts, parabolic_bursts, other_bursts = [], [], []\n",
    "\n",
    "for i, (burst_start, burst_end) in enumerate(bursts):\n",
    "    burst_mask = (time >= burst_start) & (time <= burst_end)\n",
    "    burst_min = np.min(signal[burst_mask])\n",
    "\n",
    "    prev_mean = np.mean(signal[(time > bursts[i-1][1]) & (time < burst_start)]) if i>0 else np.nan\n",
    "    next_mean = np.mean(signal[(time > burst_end) & (time < bursts[i+1][0])]) if i < len(bursts)-1 else np.nan\n",
    "    inter_mean = np.nanmean([prev_mean, next_mean])\n",
    "\n",
    "    if burst_min > inter_mean:\n",
    "        square_wave_bursts.append((burst_start, burst_end))\n",
    "    elif burst_min < inter_mean:\n",
    "        parabolic_bursts.append((burst_start, burst_end))\n",
    "    else:\n",
    "        other_bursts.append((burst_start, burst_end))"
   ]
  },
  {
   "cell_type": "markdown",
   "metadata": {},
   "source": [
    "## Save burst info to CSV"
   ]
  },
  {
   "cell_type": "code",
   "execution_count": null,
   "metadata": {},
   "outputs": [],
   "source": [
    "burst_list = []\n",
    "\n",
    "for idx, (start, end) in enumerate(square_wave_bursts):\n",
    "    burst_list.append([idx+1, start, end, \"Square Wave\"])\n",
    "for idx, (start, end) in enumerate(parabolic_bursts):\n",
    "    burst_list.append([idx+1+len(square_wave_bursts), start, end, \"Parabolic\"])\n",
    "for idx, (start, end) in enumerate(other_bursts):\n",
    "    burst_list.append([idx+1+len(square_wave_bursts)+len(parabolic_bursts), start, end, \"Other\"])\n",
    "\n",
    "df_bursts = pd.DataFrame(burst_list, columns=[\"Burst_Number\", \"Start_Time_s\", \"End_Time_s\", \"Type\"])\n",
    "df_bursts.to_csv(\"burst_info_cell89.csv\", index=False)\n",
    "print(df_bursts)"
   ]
  },
  {
   "cell_type": "markdown",
   "metadata": {},
   "source": [
    "## Plot spikes and bursts\n",
    "Visualize spikes as red dots and bursts as shaded regions."
   ]
  },
  {
   "cell_type": "code",
   "execution_count": null,
   "metadata": {},
   "outputs": [],
   "source": [
    "plt.figure(figsize=(12,4))\n",
    "plt.plot(time, signal, lw=0.2)\n",
    "plt.plot(spike_times, signal[spike_indices], 'r.', markersize=3)\n",
    "\n",
    "for start, end in square_wave_bursts:\n",
    "    plt.axvspan(start, end, color='blue', alpha=0.3)\n",
    "for start, end in parabolic_bursts:\n",
    "    plt.axvspan(start, end, color='green', alpha=0.3)\n",
    "for start, end in other_bursts:\n",
    "    plt.axvspan(start, end, color='orange', alpha=0.3)\n",
    "\n",
    "plt.xlabel(\"Time (s)\")\n",
    "plt.ylabel(\"Voltage (mV)\")\n",
    "plt.title(\"Detected Spikes and Burst Types\")\n",
    "plt.show()"
   ]
  }
 ],
 "metadata": {
  "kernelspec": {
   "display_name": "Python 3",
   "language": "python",
   "name": "python3"
  },
  "language_info": {
   "name": "python",
   "version": "3.11"
  }
 },
 "nbformat": 4,
 "nbformat_minor": 5
}
