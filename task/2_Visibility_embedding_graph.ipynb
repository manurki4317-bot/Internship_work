{
 "cells": [
  {
   "cell_type": "markdown",
   "metadata": {},
   "source": [
    "# Spike and Burst Analysis with Visibility Graphs\n",
    "\n",
    "This notebook demonstrates how to detect spikes and bursts in an ABF file, classify bursts into different types, and visualize the results. The workflow goes from raw electrophysiological data to spike detection, burst detection, classification, saving the results, and plotting them for interpretation."
   ]
  },
  {
   "cell_type": "code",
   "execution_count": null,
   "metadata": {},
   "outputs": [],
   "source": [
    "# Load libraries\n",
    "import pyabf\n",
    "import numpy as np\n",
    "import pandas as pd\n",
    "import matplotlib.pyplot as plt\n",
    "from scipy.signal import find_peaks\n",
    "%matplotlib widget"
   ]
  },
  {
   "cell_type": "markdown",
   "metadata": {},
   "source": [
    "## Step 1: Load ABF file and concatenate sweeps\n",
    "ABF (Axon Binary File) is a format used in electrophysiology for patch-clamp or intracellular recordings.\n",
    "\n",
    "Here we load the ABF file and concatenate all sweeps into a single continuous voltage trace. This way, the data can be analyzed as one long recording instead of multiple separate sweeps.\n",
    "\n",
    "**Expected output:** A message printing the file name, the number of sweeps, and the total duration of the recording in seconds."
   ]
  },
  {
   "cell_type": "code",
   "execution_count": null,
   "metadata": {},
   "outputs": [],
   "source": [
    "file_path = \"bursting/cell89basal.abf\"\n",
    "abf = pyabf.ABF(file_path)\n",
    "\n",
    "signal = np.concatenate([abf.setSweep(i) or abf.sweepY for i in range(abf.sweepCount)])\n",
    "dt = 1.0 / abf.dataRate\n",
    "time = np.arange(len(signal)) * dt\n",
    "\n",
    "print(f\"File: {file_path} | sweeps: {abf.sweepCount} | total length: {time[-1]:.2f} s\")"
   ]
  },
  {
   "cell_type": "markdown",
   "metadata": {},
   "source": [
    "## Step 2: Spike detection\n",
    "Spikes are detected using a voltage threshold. Any rapid voltage increase above `-35 mV` is considered a spike.\n",
    "\n",
    "- `find_peaks` locates peaks in the signal above the threshold.\n",
    "- We then extract the spike times in seconds.\n",
    "\n",
    "**Expected output:** Two arrays:\n",
    "- `spike_indices`: indices of spikes in the signal.\n",
    "- `spike_times`: corresponding times in seconds."
   ]
  },
  {
   "cell_type": "code",
   "execution_count": null,
   "metadata": {},
   "outputs": [],
   "source": [
    "threshold = -35  # mV\n",
    "spike_indices, _ = find_peaks(signal, height=threshold)\n",
    "spike_times = time[spike_indices]"
   ]
  },
  {
   "cell_type": "markdown",
   "metadata": {},
   "source": [
    "## Step 3: Burst detection\n",
    "Bursts are defined as sequences of spikes where the time between spikes (interspike interval, ISI) is shorter than a given threshold (here, 0.3 seconds).\n",
    "\n",
    "The algorithm:\n",
    "1. Compute ISI = time differences between consecutive spikes.\n",
    "2. Group spikes together if their ISI < threshold.\n",
    "3. Save bursts as start and end times.\n",
    "\n",
    "**Expected output:** A list of bursts, each represented by a `(start_time, end_time)` tuple."
   ]
  },
  {
   "cell_type": "code",
   "execution_count": null,
   "metadata": {},
   "outputs": [],
   "source": [
    "isi = np.diff(spike_times)\n",
    "burst_threshold = 0.3  # seconds\n",
    "\n",
    "bursts = []\n",
    "current_burst = [spike_times[0]]\n",
    "for i in range(1, len(isi)):\n",
    "    if isi[i-1] < burst_threshold:\n",
    "        current_burst.append(spike_times[i])\n",
    "    else:\n",
    "        if len(current_burst) > 1:\n",
    "            bursts.append((current_burst[0], current_burst[-1]))\n",
    "        current_burst = [spike_times[i]]\n",
    "if len(current_burst) > 1:\n",
    "    bursts.append((current_burst[0], current_burst[-1]))"
   ]
  },
  {
   "cell_type": "markdown",
   "metadata": {},
   "source": [
    "## Step 4: Burst classification\n",
    "Now that bursts are detected, we try to classify them based on their voltage profile:\n",
    "\n",
    "- **Square Wave bursts**: if the minimum voltage inside the burst is higher than the surrounding baseline.\n",
    "- **Parabolic bursts**: if the minimum voltage is lower than the baseline.\n",
    "- **Other**: if no clear pattern is found.\n",
    "\n",
    "This is a simplified heuristic that uses the average of the voltages before and after the burst as a baseline.\n",
    "\n",
    "**Expected output:** Three lists: `square_wave_bursts`, `parabolic_bursts`, `other_bursts`."
   ]
  },
  {
   "cell_type": "code",
   "execution_count": null,
   "metadata": {},
   "outputs": [],
   "source": [
    "square_wave_bursts, parabolic_bursts, other_bursts = [], [], []\n",
    "\n",
    "for i, (burst_start, burst_end) in enumerate(bursts):\n",
    "    burst_mask = (time >= burst_start) & (time <= burst_end)\n",
    "    burst_min = np.min(signal[burst_mask])\n",
    "\n",
    "    prev_mean = np.mean(signal[(time > bursts[i-1][1]) & (time < burst_start)]) if i>0 else np.nan\n",
    "    next_mean = np.mean(signal[(time > burst_end) & (time < bursts[i+1][0])]) if i < len(bursts)-1 else np.nan\n",
    "    inter_mean = np.nanmean([prev_mean, next_mean])\n",
    "\n",
    "    if burst_min > inter_mean:\n",
    "        square_wave_bursts.append((burst_start, burst_end))\n",
    "    elif burst_min < inter_mean:\n",
    "        parabolic_bursts.append((burst_start, burst_end))\n",
    "    else:\n",
    "        other_bursts.append((burst_start, burst_end))"
   ]
  },
  {
   "cell_type": "markdown",
   "metadata": {},
   "source": [
    "## Step 5: Save burst information to CSV\n",
    "Each burst is saved with an ID, start time, end time, and classification type.\n",
    "\n",
    "This makes it easy to use the burst data in further analysis or visualization pipelines.\n",
    "\n",
    "**Expected output:** A CSV file (`burst_info_cell89.csv`) and a printed DataFrame summarizing all bursts and their classifications."
   ]
  },
  {
   "cell_type": "code",
   "execution_count": null,
   "metadata": {},
   "outputs": [],
   "source": [
    "burst_list = []\n",
    "\n",
    "for idx, (start, end) in enumerate(square_wave_bursts):\n",
    "    burst_list.append([idx+1, start, end, \"Square Wave\"])\n",
    "for idx, (start, end) in enumerate(parabolic_bursts):\n",
    "    burst_list.append([idx+1+len(square_wave_bursts), start, end, \"Parabolic\"])\n",
    "for idx, (start, end) in enumerate(other_bursts):\n",
    "    burst_list.append([idx+1+len(square_wave_bursts)+len(parabolic_bursts), start, end, \"Other\"])\n",
    "\n",
    "df_bursts = pd.DataFrame(burst_list, columns=[\"Burst_Number\", \"Start_Time_s\", \"End_Time_s\", \"Type\"])\n",
    "df_bursts.to_csv(\"burst_info_cell89.csv\", index=False)\n",
    "print(df_bursts)"
   ]
  },
  {
   "cell_type": "markdown",
   "metadata": {},
   "source": [
    "## Step 6: Visualization\n",
    "Finally, we plot the results:\n",
    "- The full voltage trace is plotted.\n",
    "- Spikes are shown as red dots.\n",
    "- Bursts are highlighted with colored shaded regions:\n",
    "  - Blue for Square Wave\n",
    "  - Green for Parabolic\n",
    "  - Orange for Other\n",
    "\n",
    "**Expected output:** A figure showing the raw trace with spike times and burst classifications overlaid, making it easy to visually inspect the detection and classification results."
   ]
  },
  {
   "cell_type": "code",
   "execution_count": null,
   "metadata": {},
   "outputs": [],
   "source": [
    "plt.figure(figsize=(12,4))\n",
    "plt.plot(time, signal, lw=0.2)\n",
    "plt.plot(spike_times, signal[spike_indices], 'r.', markersize=3)\n",
    "\n",
    "for start, end in square_wave_bursts:\n",
    "    plt.axvspan(start, end, color='blue', alpha=0.3)\n",
    "for start, end in parabolic_bursts:\n",
    "    plt.axvspan(start, end, color='green', alpha=0.3)\n",
    "for start, end in other_bursts:\n",
    "    plt.axvspan(start, end, color='orange', alpha=0.3)\n",
    "\n",
    "plt.xlabel(\"Time (s)\")\n",
    "plt.ylabel(\"Voltage (mV)\")\n",
    "plt.title(\"Detected Spikes and Burst Types\")\n",
    "plt.show()"
   ]
  }
 ],
 "metadata": {
  "kernelspec": {
   "display_name": "Python 3",
   "language": "python",
   "name": "python3"
  },
  "language_info": {
   "name": "python",
   "version": "3.11"
  }
 },
 "nbformat": 4,
 "nbformat_minor": 5
}
