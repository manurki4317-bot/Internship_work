{
 "cells": [
  {
   "cell_type": "markdown",
   "metadata": {},
   "source": [
    "# Spike and Burst Analysis with Visibility Graphs and Embeddings\n",
    "\n",
    "This notebook demonstrates a complete workflow for analyzing electrophysiological ABF recordings:\n",
    "1. Loading ABF files and concatenating sweeps\n",
    "2. Detecting spikes\n",
    "3. Detecting bursts and computing intra-burst ISI\n",
    "4. Classifying bursts as Square Wave, Parabolic, or Other\n",
    "5. Constructing visibility graphs for each burst\n",
    "6. Computing 2D and 3D embeddings of bursts\n",
    "7. Exporting burst, node, and edge information to CSV\n",
    "8. Visualizing the voltage trace, spikes, bursts, and embeddings"
   ]
  },
  {
   "cell_type": "code",
   "execution_count": null,
   "metadata": {},
   "outputs": [],
   "source": [
    "# Load libraries\n",
    "import pyabf\n",
    "import numpy as np\n",
    "import pandas as pd\n",
    "import matplotlib.pyplot as plt\n",
    "import networkx as nx\n",
    "from scipy.signal import find_peaks\n",
    "from sklearn.decomposition import TruncatedSVD\n",
    "%matplotlib widget"
   ]
  },
  {
   "cell_type": "markdown",
   "metadata": {},
   "source": [
    "## Step 1: Load ABF file and concatenate sweeps\n",
    "ABF (Axon Binary File) format is used for patch-clamp or intracellular recordings.\n",
    "We merge all sweeps into a single continuous voltage trace."
   ]
  },
  {
   "cell_type": "code",
   "execution_count": null,
   "metadata": {},
   "outputs": [],
   "source": [
    "file_path = \"bursting/cell89basal.abf\"\n",
    "abf = pyabf.ABF(file_path)\n",
    "\n",
    "signal = np.concatenate([abf.setSweep(i) or abf.sweepY for i in range(abf.sweepCount)])\n",
    "dt = 1.0 / abf.dataRate\n",
    "time = np.arange(len(signal)) * dt\n",
    "\n",
    "print(f\"File: {file_path} | sweeps: {abf.sweepCount} | total length: {time[-1]:.2f} s\")"
   ]
  },
  {
   "cell_type": "markdown",
   "metadata": {},
   "source": [
    "## Step 2: Spike detection\n",
    "Detect spikes using a voltage threshold. Spikes are identified as local maxima above -35 mV."
   ]
  },
  {
   "cell_type": "code",
   "execution_count": null,
   "metadata": {},
   "outputs": [],
   "source": [
    "threshold = -35  # mV\n",
    "spike_indices, _ = find_peaks(signal, height=threshold)\n",
    "spike_times = time[spike_indices]"
   ]
  },
  {
   "cell_type": "markdown",
   "metadata": {},
   "source": [
    "## Step 3: Burst detection\n",
    "Bursts are sequences of spikes with interspike interval (ISI) below 0.3 s."
   ]
  },
  {
   "cell_type": "code",
   "execution_count": null,
   "metadata": {},
   "outputs": [],
   "source": [
    "isi = np.diff(spike_times)\n",
    "burst_threshold = 0.3  # s\n",
    "bursts = []\n",
    "current_burst = [0]\n",
    "\n",
    "for i in range(1, len(spike_times)):\n",
    "    if isi[i-1] < burst_threshold:\n",
    "        current_burst.append(i)\n",
    "    else:\n",
    "        if len(current_burst) > 1:\n",
    "            bursts.append(current_burst)\n",
    "        current_burst = [i]\n",
    "if len(current_burst) > 1:\n",
    "    bursts.append(current_burst)\n",
    "\n",
    "print(f\"Detected {len(bursts)} bursts\")\n",
    "\n",
    "# Compute internal ISI per spike (ms)\n",
    "isi_per_spike_burst = np.zeros(len(spike_times))\n",
    "for burst in bursts:\n",
    "    for i, idx in enumerate(burst):\n",
    "        isi_per_spike_burst[idx] = 0 if i==0 else (spike_times[idx]-spike_times[burst[i-1]])*1000"
   ]
  },
  {
   "cell_type": "markdown",
   "metadata": {},
   "source": [
    "## Step 4: Burst classification\n",
    "Classify bursts based on minimum voltage relative to surrounding baseline: Square Wave, Parabolic, Other."
   ]
  },
  {
   "cell_type": "code",
   "execution_count": null,
   "metadata": {},
   "outputs": [],
   "source": [
    "square_wave_bursts, parabolic_bursts, other_bursts = [], [], []\n",
    "burst_types = {}\n",
    "\n",
    "for i, burst in enumerate(bursts):\n",
    "    burst_mask = (time >= spike_times[burst[0]]) & (time <= spike_times[burst[-1]])\n",
    "    burst_min = np.min(signal[burst_mask])\n",
    "    prev_mean = np.mean(signal[(time > spike_times[bursts[i-1][-1]]) & (time < spike_times[burst[0]])]) if i>0 else np.nan\n",
    "    next_mean = np.mean(signal[(time > spike_times[burst[-1]]) & (time < spike_times[bursts[i+1][0]])]) if i<len(bursts)-1 else np.nan\n",
    "    inter_mean = np.nanmean([prev_mean, next_mean])\n",
    "    if burst_min > inter_mean:\n",
    "        square_wave_bursts.append(burst)\n",
    "        burst_types[tuple(burst)] = \"Square Wave\"\n",
    "    elif burst_min < inter_mean:\n",
    "        parabolic_bursts.append(burst)\n",
    "        burst_types[tuple(burst)] = \"Parabolic\"\n",
    "    else:\n",
    "        other_bursts.append(burst)\n",
    "        burst_types[tuple(burst)] = \"Other\""
   ]
  },
  {
   "cell_type": "markdown",
   "metadata": {},
   "source": [
    "## Step 5: Save bursts info to CSV"
   ]
  },
  {
   "cell_type": "code",
   "execution_count": null,
   "metadata": {},
   "outputs": [],
   "source": [
    "burst_list = []\n",
    "for idx, burst in enumerate(bursts):\n",
    "    burst_type = burst_types[tuple(burst)]\n",
    "    burst_list.append([idx+1, spike_times[burst[0]], spike_times[burst[-1]], burst_type])\n",
    "\n",
    "df_bursts_all = pd.DataFrame(burst_list, columns=[\"Burst_Number\",\"Start_Time_s\",\"End_Time_s\",\"Type\"])\n",
    "df_bursts_all.to_csv(\"burst_basic_info_cell89_all_bursts.csv\", index=False)\n",
    "df_bursts_all.head(10)"
   ]
  },
  {
   "cell_type": "markdown",
   "metadata": {},
   "source": [
    "## Step 6: Visibility graphs and embeddings"
   ]
  },
  {
   "cell_type": "code",
   "execution_count": null,
   "metadata": {},
   "outputs": [],
   "source": [
    "colors_map = {\"Square Wave\":\"blue\", \"Parabolic\":\"green\", \"Other\":\"orange\"}\n",
    "nodes_list, edges_list = [], []\n",
    "\n",
    "for b_idx, burst in enumerate(bursts):\n",
    "    burst_type = burst_types[tuple(burst)]\n",
    "    x_peaks = np.arange(len(burst))\n",
    "    y_peaks = isi_per_spike_burst[burst]\n",
    "\n",
    "    G = nx.Graph()\n",
    "    G.add_nodes_from(range(len(burst)))\n",
    "    for a in range(len(x_peaks)):\n",
    "        for b in range(a+1, len(x_peaks)):\n",
    "            visible = True\n",
    "            for c in range(a+1,b):\n",
    "                y_line = y_peaks[b]+(y_peaks[a]-y_peaks[b])*(x_peaks[b]-x_peaks[c])/(x_peaks[b]-x_peaks[a])\n",
    "                if y_peaks[c] >= y_line:\n",
    "                    visible=False\n",
    "                    break\n",
    "            if visible:\n",
    "                G.add_edge(a,b)\n",
    "                edges_list.append([b_idx+1, burst_type, a, b])\n",
    "\n",
    "    A = nx.to_numpy_array(G)\n",
    "    n_dim = min(3,A.shape[0])\n",
    "    embedding_2d = TruncatedSVD(n_components=2, random_state=42).fit_transform(A)\n",
    "    embedding_3d = TruncatedSVD(n_components=n_dim, random_state=42).fit_transform(A) if n_dim>=3 else np.zeros((len(burst),3))\n",
    "\n",
    "    for i in range(len(burst)):\n",
    "        nodes_list.append([b_idx+1, burst_type, i,\n",
    "                           embedding_2d[i,0], embedding_2d[i,1],\n",
    "                           embedding_3d[i,0], embedding_3d[i,1], embedding_3d[i,2],\n",
    "                           burst[i]])"
   ]
  },
  {
   "cell_type": "markdown",
   "metadata": {},
   "source": [
    "## Step 7: Save nodes and edges CSV"
   ]
  },
  {
   "cell_type": "code",
   "execution_count": null,
   "metadata": {},
   "outputs": [],
   "source": [
    "df_nodes = pd.DataFrame(nodes_list, columns=[\"Burst_Number\",\"Type\",\"Node_ID\",\"X_2D\",\"Y_2D\",\"X_3D\",\"Y_3D\",\"Z_3D\",\"Spike_Global_Index\"])\n",
    "df_edges = pd.DataFrame(edges_list, columns=[\"Burst_Number\",\"Type\",\"Node1_ID\",\"Node2_ID\"])\n",
    "\n",
    "df_nodes.to_csv(\"burst_nodes_all.csv\", index=False)\n",
    "df_edges.to_csv(\"burst_edges_all.csv\", index=False)"
   ]
  },
  {
   "cell_type": "markdown",
   "metadata": {},
   "source": [
    "## Step 8: Visualization\n",
    "Plot voltage trace, spikes, bursts, visibility graphs, and embeddings for the first few bursts."
   ]
  },
  {
   "cell_type": "code",
   "execution_count": null,
   "metadata": {},
   "outputs": [],
   "source": [
    "plt.figure(figsize=(12,4))\n",
    "plt.plot(time, signal, lw=0.2)\n",
    "plt.plot(spike_times, signal[spike_indices], 'r.', markersize=3)\n",
    "\n",
    "for burst in square_wave_bursts:\n",
    "    plt.axvspan(spike_times[burst[0]], spike_times[burst[-1]], color='blue', alpha=0.3)\n",
    "for burst in parabolic_bursts:\n",
    "    plt.axvspan(spike_times[burst[0]], spike_times[burst[-1]], color='green', alpha=0.3)\n",
    "for burst in other_bursts:\n",
    "    plt.axvspan(spike_times[burst[0]], spike_times[burst[-1]], color='orange', alpha=0.3)\n",
    "\n",
    "plt.xlabel(\"Time (s)\")\n",
    "plt.ylabel(\"Voltage (mV)\")\n",
    "plt.title(\"Voltage Trace with Spikes and Burst Types\")\n",
    "plt.show()"
   ]
  }
 ],
 "metadata": {
  "kernelspec": {
   "display_name": "Python 3",
   "language": "python",
   "name": "python3"
  },
  "language_info": {
   "name": "python",
   "version": "3.11"
  }
 },
 "nbformat": 4,
 "nbformat_minor": 5
}
