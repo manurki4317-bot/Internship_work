{
 "cell_type": "markdown",
 "metadata": {},
 "source": [
  "## Reference Screenshot\n",
  "This screenshot shows an example of the spike and burst analysis:\n",
  "\n",
  "![Spike and Burst Analysis](Captura_de_pantalla_2025-10-02_080635.png)\n",
  "\n",
  "> Make sure the image file is uploaded to the same folder as the notebook."
 ]
}
