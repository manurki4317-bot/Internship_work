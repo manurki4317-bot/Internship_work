{
 "cell_type": "markdown",
 "metadata": {},
 "source": [
  "![Ejemplo](img/mi_imagen.png)"
 ]
}
