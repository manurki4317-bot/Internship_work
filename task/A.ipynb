{
 "cell_type": "markdown",
 "metadata": {},
 "source": [
  "![Ejemplo](mi_imagen.png)"
 ]
}
