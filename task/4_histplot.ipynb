{
 "cells": [
  {
   "cell_type": "markdown",
   "metadata": {},
   "source": [
    "# Spike and Burst Analysis in ABF Files\n",
    "\n",
    "This notebook walks through the processing of electrophysiological recordings in ABF format. We detect spikes and bursts, extract features from each segment, and visualize the results using UMAP and plotting libraries."
   ]
  },
  {
   "cell_type": "code",
   "execution_count": null,
   "metadata": {},
   "outputs": [],
   "source": [
    "# Load libraries\n",
    "import os  # Work with directories and files\n",
    "import pyabf  # Read ABF files\n",
    "import numpy as np\n",
    "import pandas as pd\n",
    "from scipy.stats import skew, kurtosis  # Statistical metrics\n",
    "from scipy.signal import find_peaks  # Detect spikes\n",
    "%matplotlib widget\n",
    "\n",
    "# Dimensionality reduction & ML\n",
    "import umap  # UMAP for nonlinear dimensionality reduction\n",
    "from sklearn.preprocessing import StandardScaler  # Standardize features\n",
    "\n",
    "# Plotting\n",
    "import matplotlib.pyplot as plt\n",
    "import seaborn as sns\n",
    "import plotly.express as px\n",
    "import plotly.io as pio\n",
    "\n",
    "# Force Plotly to display in browser\n",
    "pio.renderers.default = \"browser\""
   ]
  },
  {
   "cell_type": "markdown",
   "metadata": {},
   "source": [
    "## Parameters\n",
    "\n",
    "- `folder_path`: folder containing ABF files\n",
    "- `threshold`: voltage threshold for spike detection\n",
    "- `burst_threshold`: ISI threshold to define bursts\n",
    "- `fs`: sampling frequency\n",
    "- `dt`: time step between samples"
   ]
  },
  {
   "cell_type": "code",
   "execution_count": null,
   "metadata": {},
   "outputs": [],
   "source": [
    "folder_path = \"bursting\"\n",
    "threshold = -35\n",
    "burst_threshold = 0.3\n",
    "fs = 10000\n",
    "dt = 1 / fs\n",
    "\n",
    "# Storage for all segment metrics\n",
    "all_segment_metrics = []"
   ]
  },
  {
   "cell_type": "markdown",
   "metadata": {},
   "source": [
    "## Processing ABF files\n",
    "For each ABF file and sweep, we extract spikes and bursts, classify bursts, and compute metrics for each segment."
   ]
  },
  {
   "cell_type": "code",
   "execution_count": null,
   "metadata": {},
   "outputs": [],
   "source": [
    "# List all ABF files in the folder\n",
    "abf_files = [f for f in os.listdir(folder_path) if f.endswith(\".abf\")]\n",
    "\n",
    "for file_name in abf_files:\n",
    "    file_path = os.path.join(folder_path, file_name)\n",
    "    abf = pyabf.ABF(file_path)\n",
    "\n",
    "    for sweep in range(abf.sweepCount):\n",
    "        abf.setSweep(sweep)\n",
    "        time = abf.sweepX  # time vector\n",
    "        voltage = abf.sweepY  # voltage trace\n",
    "\n",
    "        # Spike detection\n",
    "        peaks, _ = find_peaks(voltage, height=threshold)\n",
    "        spike_times = peaks / fs  # convert indices to time"
   ]
  },
  {
   "cell_type": "markdown",
   "metadata": {},
   "source": [
    "### Burst detection\n",
    "- Define bursts as sequences of spikes with interspike intervals below `burst_threshold`.\n",
    "- Only bursts with ≥2 spikes are considered valid."
   ]
  },
  {
   "cell_type": "code",
   "execution_count": null,
   "metadata": {},
   "outputs": [],
   "source": [
    "        bursts = []\n",
    "        if len(spike_times) >= 5:\n",
    "            isi = np.diff(spike_times)\n",
    "            current_burst = [spike_times[0]]\n",
    "\n",
    "            for i in range(1, len(spike_times)):\n",
    "                if isi[i - 1] < burst_threshold:\n",
    "                    current_burst.append(spike_times[i])\n",
    "                else:\n",
    "                    if len(current_burst) > 1:\n",
    "                        bursts.append((current_burst[0], current_burst[-1]))\n",
    "                    current_burst = [spike_times[i]]\n",
    "            if len(current_burst) > 1:\n",
    "                bursts.append((current_burst[0], current_burst[-1]))"
   ]
  },
  {
   "cell_type": "markdown",
   "metadata": {},
   "source": [
    "### Segmentation\n",
    "- Label each time segment as 'Burst' or 'Non-burst'.\n",
    "- Add non-burst segments before, between, and after bursts."
   ]
  },
  {
   "cell_type": "code",
   "execution_count": null,
   "metadata": {},
   "outputs": [],
   "source": [
    "        segments = []\n",
    "        for start, end in bursts:\n",
    "            segments.append((start, end, \"Burst\"))\n",
    "\n",
    "        if bursts:\n",
    "            if bursts[0][0] > time[0]:\n",
    "                segments.insert(0, (time[0], bursts[0][0], \"Non-burst\"))\n",
    "            for i in range(len(bursts)-1):\n",
    "                segments.append((bursts[i][1], bursts[i+1][0], \"Non-burst\"))\n",
    "            if bursts[-1][1] < time[-1]:\n",
    "                segments.append((bursts[-1][1], time[-1], \"Non-burst\"))\n",
    "        else:\n",
    "            segments.append((time[0], time[-1], \"Non-burst\"))"
   ]
  },
  {
   "cell_type": "markdown",
   "metadata": {},
   "source": [
    "### Burst type classification\n",
    "- Compare minimum voltage in burst to surrounding baseline to classify as 'Square Wave', 'Parabolic', or 'Other'."
   ]
  },
  {
   "cell_type": "code",
   "execution_count": null,
   "metadata": {},
   "outputs": [],
   "source": [
    "        burst_types = []\n",
    "        for i, (seg_start, seg_end, seg_type) in enumerate(segments):\n",
    "            if seg_type == \"Burst\":\n",
    "                seg_mask = (time >= seg_start) & (time <= seg_end)\n",
    "                burst_min = np.min(voltage[seg_mask])\n",
    "                prev_mean = np.nan\n",
    "                next_mean = np.nan\n",
    "                if i > 0:\n",
    "                    prev_end = segments[i-1][1]\n",
    "                    inter_mask_prev = (time > prev_end) & (time < seg_start)\n",
    "                    if np.any(inter_mask_prev):\n",
    "                        prev_mean = np.mean(voltage[inter_mask_prev])\n",
    "                if i < len(segments)-1:\n",
    "                    next_start = segments[i+1][0]\n",
    "                    inter_mask_next = (time > seg_end) & (time < next_start)\n",
    "                    if np.any(inter_mask_next):\n",
    "                        next_mean = np.mean(voltage[inter_mask_next])\n",
    "                inter_mean = np.nanmean([prev_mean, next_mean])\n",
    "                if np.isnan(inter_mean):\n",
    "                    burst_type = \"Other\"\n",
    "                elif burst_min > inter_mean:\n",
    "                    burst_type = \"Square Wave\"\n",
    "                elif burst_min < inter_mean:\n",
    "                    burst_type = \"Parabolic\"\n",
    "                else:\n",
    "                    burst_type = \"Other\"\n",
    "            else:\n",
    "                burst_type = \"Non-burst\"\n",
    "            burst_types.append(burst_type)"
   ]
  },
  {
   "cell_type": "markdown",
   "metadata": {},
   "source": [
    "### Metrics extraction\n",
    "- Compute statistics for voltage and derivative.\n",
    "- Count peaks and mean ISI.\n",
    "- Save all metrics in a list."
   ]
  },
  {
   "cell_type": "code",
   "execution_count": null,
   "metadata": {},
   "outputs": [],
   "source": [
    "        for j, (seg_start, seg_end, seg_type) in enumerate(segments):\n",
    "            seg_mask = (time >= seg_start) & (time <= seg_end)\n",
    "            seg_voltage = voltage[seg_mask]\n",
    "            duration = seg_end - seg_start\n",
    "            burst_type = burst_types[j]\n",
    "\n",
    "            seg_peaks, _ = find_peaks(seg_voltage, height=threshold)\n",
    "            num_peaks = len(seg_peaks)\n",
    "            mean_isi = np.mean(np.diff(seg_peaks / fs)) if num_peaks >= 2 else 0\n",
    "\n",
    "            if len(seg_voltage) < 2:\n",
    "                mean_val = std_val = min_val = max_val = skew_val = kurt_val = area_val = 0\n",
    "            else:\n",
    "                mean_val = np.mean(seg_voltage)\n",
    "                std_val = np.std(seg_voltage)\n",
    "                min_val = np.min(seg_voltage)\n",
    "                max_val = np.max(seg_voltage)\n",
    "                skew_val = skew(seg_voltage)\n",
    "                kurt_val = kurtosis(seg_voltage)\n",
    "                area_val = np.trapezoid(seg_voltage, dx=dt)\n",
    "\n",
    "            if len(seg_voltage) < 2:\n",
    "                mean_d = std_d = min_d = max_d = skew_d = kurt_d = 0\n",
    "            else:\n",
    "                deriv = np.diff(seg_voltage) / dt\n",
    "                mean_d = np.mean(deriv)\n",
    "                std_d = np.std(deriv)\n",
    "                min_d = np.min(deriv)\n",
    "                max_d = np.max(deriv)\n",
    "                skew_d = skew(deriv)\n",
    "                kurt_d = kurtosis(deriv)\n",
    "\n",
    "            all_segment_metrics.append([\n",
    "                file_name, sweep, seg_type, burst_type, duration,\n",
    "                num_peaks, mean_isi,\n",
    "                mean_val, std_val, min_val, max_val, skew_val, kurt_val, area_val,\n",
    "                mean_d, std_d, min_d, max_d, skew_d, kurt_d\n",
    "            ])"
   ]
  },
  {
   "cell_type": "markdown",
   "metadata": {},
   "source": [
    "## Create DataFrame and save results"
   ]
  },
  {
   "cell_type": "code",
   "execution_count": null,
   "metadata": {},
   "outputs": [],
   "source": [
    "df_segments = pd.DataFrame(all_segment_metrics, columns=[\n",
    "    \"File_Name\", \"Sweep\", \"Segment_Type\", \"Burst_Type\", \"Duration\",\n",
    "    \"Num_Peaks\", \"Mean_ISI\",\n",
    "    \"Mean\", \"Std\", \"Min\", \"Max\", \"Skewness\", \"Kurtosis\", \"Area\",\n",
    "    \"Mean_Deriv\", \"Std_Deriv\", \"Min_Deriv\", \"Max_Deriv\", \"Skewness_Deriv\", \"Kurtosis_Deriv\"\n",
    "])\n",
    "df_segments.to_csv(\"segment_voltage_metrics_with_ISI_and_peaks.csv\", index=False)"
   ]
  },
  {
   "cell_type": "markdown",
   "metadata": {},
   "source": [
    "## UMAP dimensionality reduction and visualization"
   ]
  },
  {
   "cell_type": "code",
   "execution_count": null,
   "metadata": {},
   "outputs": [],
   "source": [
    "sns.set(style='white', context='notebook', rc={'figure.figsize':(14,10)})\n",
    "df = pd.read_csv(\"segment_voltage_metrics_with_ISI_and_peaks.csv\")\n",
    "header = list(df)[4:]\n",
    "X = np.array(df[header])\n",
    "y = np.array(df.Burst_Type)\n",
    "scaler = StandardScaler()\n",
    "X_scaled = scaler.fit_transform(X)\n",
    "reducer = umap.UMAP(n_components=2, random_state=42)\n",
    "embedding = reducer.fit_transform(X_scaled)\n",
    "df_umap = pd.DataFrame(embedding, columns=[\"UMAP1\", \"UMAP2\"])\n",
    "df_umap[\"Burst_Type\"] = y\n",
    "\n",
    "sns.scatterplot(\n",
    "    data=df_umap, x=\"UMAP1\", y=\"UMAP2\",\n",
    "    hue=\"Burst_Type\", palette=\"tab10\", alpha=0.7\n",
    ")\n",
    "plt.title(\"UMAP segments metrics\")\n",
    "plt.xlabel(\"UMAP1\")\n",
    "plt.ylabel(\"UMAP2\")\n",
    "plt.show()"
   ]
  },
  {
   "cell_type": "markdown",
   "metadata": {},
   "source": [
    "## Histogram of segment durations"
   ]
  },
  {
   "cell_type": "code",
   "execution_count": null,
   "metadata": {},
   "outputs": [],
   "source": [
    "sns.set(style=\"whitegrid\", context=\"notebook\", rc={'figure.figsize':(10,6)})\n",
    "sns.histplot(\n",
    "    data=df_segments,\n",
    "    x=\"Duration\",\n",
    "    hue=\"Burst_Type\",\n",
    "    bins=30,\n",
    "    kde=True,\n",
    "    palette=\"tab10\",\n",
    "    alpha=0.6\n",
    ")\n",
    "plt.title(\"Distribution of the segments duration\")\n",
    "plt.xlabel(\"Duration (s)\")\n",
    "plt.ylabel(\"Count\")\n",
    "plt.show()"
   ]
  },
  {
   "cell_type": "markdown",
   "metadata": {},
   "source": [
    "## Interactive UMAP visualization with Plotly"
   ]
  },
  {
   "cell_type": "code",
   "execution_count": null,
   "metadata": {},
   "outputs": [],
   "source": [
    "fig = px.scatter(\n",
    "    df_umap, x=\"UMAP1\", y=\"UMAP2\",\n",
    "    color=\"Burst_Type\",\n",
    "    title=\"UMAP\"\n",
    ")\n",
    "pio.renderers.default = \"browser\"\n",
    "fig.show()"
   ]
  }
 ],
 "metadata": {
  "kernelspec": {
   "display_name": "Python 3",
   "language": "python",
   "name": "python3"
  },
  "language_info": {
   "name": "python",
   "version": "3.11"
  }
 },
 "nbformat": 4,
 "nbformat_minor": 5
}
